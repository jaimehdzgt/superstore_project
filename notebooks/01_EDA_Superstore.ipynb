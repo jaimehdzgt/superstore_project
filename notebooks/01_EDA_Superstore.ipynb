{
 "cells": [
  {
   "cell_type": "markdown",
   "id": "db27c87f",
   "metadata": {},
   "source": [
    "# 📒 01 — EDA Superstore\n",
    "**Contenido**\n",
    "- [0. Setup](#bookmark-0-setup)\n",
    "- [1. Carga de datos](#bookmark-1-load)\n",
    "- [2. Vista rápida](#bookmark-2-peek)\n",
    "- [3. Calidad de datos](#bookmark-3-quality)\n",
    "- [4. Descriptivos](#bookmark-4-describe)\n",
    "- [5. Categóricas](#bookmark-5-cats)\n",
    "- [6. Numéricas & Outliers](#bookmark-6-num)\n",
    "- [7. Correlaciones](#bookmark-7-corr)\n",
    "- [8. Temporal](#bookmark-8-time)\n",
    "- [9. Guardado de artefactos](#bookmark-9-save)"
   ]
  },
  {
   "cell_type": "markdown",
   "id": "693dcd45",
   "metadata": {},
   "source": [
    "<a id=\"bookmark-0-setup\"></a>\n",
    "## 0) Setup"
   ]
  },
  {
   "cell_type": "code",
   "execution_count": null,
   "id": "72590796",
   "metadata": {},
   "outputs": [],
   "source": [
    "import os, sys, numpy as np, pandas as pd\n",
    "import matplotlib.pyplot as plt\n",
    "from pathlib import Path\n",
    "\n",
    "pd.set_option(\"display.max_rows\", 100)\n",
    "pd.set_option(\"display.max_columns\", 100)\n",
    "pd.set_option(\"display.width\", 120)\n",
    "\n",
    "BASE_DIR = Path(\"..\").resolve()\n",
    "DATA_DIR = (BASE_DIR / \"data\")\n",
    "CSV_FALLBACK = str(DATA_DIR / \"superstore_sample.csv\")\n",
    "\n",
    "print(f\"Python: {sys.version.split()[0]} | pandas: {pd.__version__}\")\n",
    "print(\"DATA_DIR:\", DATA_DIR)"
   ]
  },
  {
   "cell_type": "markdown",
   "id": "09d945a9",
   "metadata": {},
   "source": [
    "<a id=\"bookmark-1-load\"></a>\n",
    "## 1) Carga de datos"
   ]
  },
  {
   "cell_type": "code",
   "execution_count": null,
   "id": "bcd82bbb",
   "metadata": {},
   "outputs": [],
   "source": [
    "from importlib import import_module\n",
    "utils = import_module(\"src.utils\".replace(\"/\", \".\"))\n",
    "\n",
    "excel_path = None  # '/content/drive/MyDrive/Sample - Superstore.xlsx' en Colab si lo subes\n",
    "df = utils.load_superstore(excel_path=excel_path, csv_fallback=CSV_FALLBACK)\n",
    "df = utils.basic_clean(df)\n",
    "df = utils.add_kpis(df)\n",
    "df.head(3)"
   ]
  },
  {
   "cell_type": "markdown",
   "id": "23607e63",
   "metadata": {},
   "source": [
    "<a id=\"bookmark-2-peek\"></a>\n",
    "## 2) Vista rápida"
   ]
  },
  {
   "cell_type": "code",
   "execution_count": null,
   "id": "1b5492b5",
   "metadata": {},
   "outputs": [],
   "source": [
    "print(\"Shape:\", df.shape)\n",
    "df.info()"
   ]
  },
  {
   "cell_type": "code",
   "execution_count": null,
   "id": "0703e8da",
   "metadata": {},
   "outputs": [],
   "source": [
    "cols_show = [c for c in [\"Order_ID\",\"Order_Date\",\"Ship_Mode\",\"Segment\",\"Country\",\"City\",\"State\",\"Category\",\"Sub_Category\",\"Sales\",\"Quantity\",\"Discount\",\"Profit\",\"profit_margin\",\"is_profitable\"] if c in df.columns]\n",
    "df[cols_show].head(10)"
   ]
  },
  {
   "cell_type": "markdown",
   "id": "53fe1d42",
   "metadata": {},
   "source": [
    "<a id=\"bookmark-3-quality\"></a>\n",
    "## 3) Calidad de datos"
   ]
  },
  {
   "cell_type": "code",
   "execution_count": null,
   "id": "0cbac772",
   "metadata": {},
   "outputs": [],
   "source": [
    "df.isna().sum().sort_values(ascending=False).head(20)"
   ]
  },
  {
   "cell_type": "code",
   "execution_count": null,
   "id": "96edd368",
   "metadata": {},
   "outputs": [],
   "source": [
    "df.duplicated().sum()"
   ]
  },
  {
   "cell_type": "markdown",
   "id": "0364be36",
   "metadata": {},
   "source": [
    "<a id=\"bookmark-4-describe\"></a>\n",
    "## 4) Descriptivos"
   ]
  },
  {
   "cell_type": "code",
   "execution_count": null,
   "id": "b380480e",
   "metadata": {},
   "outputs": [],
   "source": [
    "df.describe(include=\"all\", datetime_is_numeric=True).T.head(25)"
   ]
  },
  {
   "cell_type": "markdown",
   "id": "8d90bbda",
   "metadata": {},
   "source": [
    "<a id=\"bookmark-5-cats\"></a>\n",
    "## 5) Categóricas — conteos"
   ]
  },
  {
   "cell_type": "code",
   "execution_count": null,
   "id": "744bded6",
   "metadata": {},
   "outputs": [],
   "source": [
    "def bar_counts(df, col, top=15, rot=45):\n",
    "    counts = df[col].value_counts().head(top)\n",
    "    plt.figure(figsize=(8,4))\n",
    "    counts.plot(kind=\"bar\")\n",
    "    plt.title(f\"{col} (top {top})\")\n",
    "    plt.xticks(rotation=rot)\n",
    "    plt.xlabel(col); plt.ylabel(\"conteo\")\n",
    "    plt.tight_layout()\n",
    "    plt.show()\n",
    "\n",
    "for col in [\"Segment\",\"Region\",\"Category\",\"Sub_Category\",\"Ship_Mode\",\"State\",\"City\"]:\n",
    "    if col in df.columns:\n",
    "        bar_counts(df, col, top=12)"
   ]
  },
  {
   "cell_type": "markdown",
   "id": "6db05214",
   "metadata": {},
   "source": [
    "<a id=\"bookmark-6-num\"></a>\n",
    "## 6) Numéricas & Outliers (IQR)"
   ]
  },
  {
   "cell_type": "code",
   "execution_count": null,
   "id": "6301545c",
   "metadata": {},
   "outputs": [],
   "source": [
    "num_cols = df.select_dtypes(include=np.number).columns.tolist()\n",
    "\n",
    "def iqr_outlier_flags(s, k=1.5):\n",
    "    q1, q3 = s.quantile(0.25), s.quantile(0.75)\n",
    "    iqr = q3 - q1\n",
    "    low, high = q1 - k*iqr, q3 + k*iqr\n",
    "    return (s < low) | (s > high)\n",
    "\n",
    "for col in [c for c in [\"Sales\",\"Quantity\",\"Discount\",\"Profit\",\"profit_margin\"] if c in df.columns]:\n",
    "    s = df[col].dropna()\n",
    "    flags = iqr_outlier_flags(s)\n",
    "    print(f\"Outliers {col}: {flags.sum()} / {s.size}\")\n",
    "    plt.figure(figsize=(7,4))\n",
    "    s.hist(bins=40)\n",
    "    plt.title(f\"Histograma — {col}\")\n",
    "    plt.xlabel(col); plt.ylabel(\"frecuencia\")\n",
    "    plt.tight_layout()\n",
    "    plt.show()"
   ]
  },
  {
   "cell_type": "markdown",
   "id": "ce1e1288",
   "metadata": {},
   "source": [
    "<a id=\"bookmark-7-corr\"></a>\n",
    "## 7) Correlaciones"
   ]
  },
  {
   "cell_type": "code",
   "execution_count": null,
   "id": "7d5ac3ff",
   "metadata": {},
   "outputs": [],
   "source": [
    "corr = df.select_dtypes(include=np.number).corr(numeric_only=True)\n",
    "corr"
   ]
  },
  {
   "cell_type": "code",
   "execution_count": null,
   "id": "41709b06",
   "metadata": {},
   "outputs": [],
   "source": [
    "plt.figure(figsize=(7,5))\n",
    "plt.imshow(corr, interpolation='nearest')\n",
    "plt.title(\"Matriz de correlación (numéricas)\")\n",
    "plt.xticks(range(len(corr.columns)), corr.columns, rotation=45, ha=\"right\")\n",
    "plt.yticks(range(len(corr.columns)), corr.columns)\n",
    "plt.colorbar()\n",
    "plt.tight_layout()\n",
    "plt.show()"
   ]
  },
  {
   "cell_type": "markdown",
   "id": "d4a98ca7",
   "metadata": {},
   "source": [
    "<a id=\"bookmark-8-time\"></a>\n",
    "## 8) Temporal"
   ]
  },
  {
   "cell_type": "code",
   "execution_count": null,
   "id": "9795fb43",
   "metadata": {},
   "outputs": [],
   "source": [
    "date_col = None\n",
    "for c in df.columns:\n",
    "    if \"order_date\" in c.lower():\n",
    "        date_col = c\n",
    "        break\n",
    "\n",
    "if date_col:\n",
    "    df2 = df.copy()\n",
    "    df2[\"month\"] = pd.to_datetime(df2[date_col]).dt.to_period(\"M\").dt.to_timestamp()\n",
    "    agg = df2.groupby(\"month\").agg(\n",
    "        orders=(\"Row_ID\",\"count\") if \"Row_ID\" in df2.columns else (\"Order_ID\",\"count\") if \"Order_ID\" in df2.columns else (\"Sales\",\"count\"),\n",
    "        sales=(\"Sales\",\"sum\") if \"Sales\" in df2.columns else (\"Profit\",\"sum\") if \"Profit\" in df2.columns else (\"is_profitable\",\"sum\")\n",
    "    ).reset_index()\n",
    "    display(agg.head())\n",
    "\n",
    "    plt.figure(figsize=(8,4))\n",
    "    plt.plot(agg[\"month\"], agg[\"orders\"], marker=\"o\")\n",
    "    plt.title(\"Pedidos por mes\")\n",
    "    plt.xlabel(\"mes\"); plt.ylabel(\"pedidos\")\n",
    "    plt.xticks(rotation=45); plt.tight_layout(); plt.show()\n",
    "\n",
    "    plt.figure(figsize=(8,4))\n",
    "    plt.plot(agg[\"month\"], agg[\"sales\"], marker=\"o\")\n",
    "    plt.title(\"Ventas/Profit por mes\")\n",
    "    plt.xlabel(\"mes\"); plt.ylabel(\"monto\")\n",
    "    plt.xticks(rotation=45); plt.tight_layout(); plt.show()\n",
    "else:\n",
    "    print(\"No se detectó columna de fecha (e.g., Order_Date).\")"
   ]
  },
  {
   "cell_type": "markdown",
   "id": "7fbc98b4",
   "metadata": {},
   "source": [
    "<a id=\"bookmark-9-save\"></a>\n",
    "## 9) Guardado de artefactos"
   ]
  },
  {
   "cell_type": "code",
   "execution_count": null,
   "id": "3fe1b16f",
   "metadata": {},
   "outputs": [],
   "source": [
    "from pathlib import Path\n",
    "OUT = Path(\"../eda_outputs\"); OUT.mkdir(exist_ok=True, parents=True)\n",
    "\n",
    "desc = df.describe(include=\"all\", datetime_is_numeric=True).T\n",
    "desc.to_csv(OUT/\"describe.csv\")\n",
    "\n",
    "nulls = df.isna().sum().to_frame(\"missing\")\n",
    "nulls[\"pct\"] = (nulls[\"missing\"]/len(df)).round(4)\n",
    "nulls.to_csv(OUT/\"missing_report.csv\")\n",
    "\n",
    "print(\"Artefactos guardados en:\", OUT.resolve())"
   ]
  }
 ],
 "metadata": {},
 "nbformat": 4,
 "nbformat_minor": 5
}
