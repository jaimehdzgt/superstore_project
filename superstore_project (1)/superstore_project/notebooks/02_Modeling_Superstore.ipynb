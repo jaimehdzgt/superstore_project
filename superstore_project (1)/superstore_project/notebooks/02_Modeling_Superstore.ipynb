{
 "cells": [
  {
   "cell_type": "markdown",
   "id": "8b45867a",
   "metadata": {},
   "source": [
    "# 📘 02 — Modeling Superstore (Clasificación: orden rentable)"
   ]
  },
  {
   "cell_type": "markdown",
   "id": "eff0bcb6",
   "metadata": {},
   "source": [
    "<a id=\"bookmark-0-setup\"></a>\n",
    "## 0) Setup"
   ]
  },
  {
   "cell_type": "code",
   "execution_count": null,
   "id": "d9edb3c8",
   "metadata": {},
   "outputs": [],
   "source": [
    "import os, sys, numpy as np, pandas as pd\n",
    "from pathlib import Path\n",
    "import matplotlib.pyplot as plt\n",
    "from sklearn.model_selection import train_test_split\n",
    "from sklearn.compose import ColumnTransformer\n",
    "from sklearn.preprocessing import OneHotEncoder, StandardScaler\n",
    "from sklearn.pipeline import Pipeline\n",
    "from sklearn.metrics import classification_report, roc_auc_score, RocCurveDisplay, confusion_matrix\n",
    "from sklearn.ensemble import RandomForestClassifier\n",
    "\n",
    "BASE_DIR = Path(\"..\").resolve()\n",
    "DATA_DIR = (BASE_DIR / \"data\")\n",
    "CSV_FALLBACK = str(DATA_DIR / \"superstore_sample.csv\")\n",
    "\n",
    "print(f\"Python: {sys.version.split()[0]} | pandas: {pd.__version__}\")\n",
    "print(\"DATA_DIR:\", DATA_DIR)"
   ]
  },
  {
   "cell_type": "markdown",
   "id": "83af0bee",
   "metadata": {},
   "source": [
    "<a id=\"bookmark-1-load\"></a>\n",
    "## 1) Carga + Features"
   ]
  },
  {
   "cell_type": "code",
   "execution_count": null,
   "id": "37c2e30b",
   "metadata": {},
   "outputs": [],
   "source": [
    "from importlib import import_module\n",
    "utils = import_module(\"src.utils\".replace(\"/\", \".\"))\n",
    "\n",
    "excel_path = None  # cambia si subes el Excel en Colab\n",
    "df = utils.load_superstore(excel_path=excel_path, csv_fallback=CSV_FALLBACK)\n",
    "df = utils.basic_clean(df)\n",
    "df = utils.add_kpis(df)\n",
    "\n",
    "num_cand = [c for c in [\"Sales\",\"Quantity\",\"Discount\"] if c in df.columns]\n",
    "cat_cand = [c for c in [\"Category\",\"Sub_Category\",\"Segment\",\"Ship_Mode\",\"Region\",\"State\",\"City\"] if c in df.columns]\n",
    "\n",
    "target = \"is_profitable\"\n",
    "if target not in df.columns and \"Profit\" in df.columns:\n",
    "    df[target] = (df[\"Profit\"]>0).astype(int)\n",
    "\n",
    "use_cols = num_cand + cat_cand + [target]\n",
    "df_model = df[use_cols].dropna().copy()\n",
    "df_model.head(5)"
   ]
  },
  {
   "cell_type": "markdown",
   "id": "2355ce38",
   "metadata": {},
   "source": [
    "<a id=\"bookmark-2-split\"></a>\n",
    "## 2) Split"
   ]
  },
  {
   "cell_type": "code",
   "execution_count": null,
   "id": "26a5162c",
   "metadata": {},
   "outputs": [],
   "source": [
    "X = df_model.drop(columns=[target])\n",
    "y = df_model[target].astype(int)\n",
    "\n",
    "X_train, X_test, y_train, y_test = train_test_split(\n",
    "    X, y, test_size=0.2, random_state=42, stratify=y\n",
    ")\n",
    "\n",
    "num_features = list(X.select_dtypes(include=np.number).columns)\n",
    "cat_features = [c for c in X.columns if c not in num_features]\n",
    "num_features, cat_features[:5]"
   ]
  },
  {
   "cell_type": "markdown",
   "id": "8a34f212",
   "metadata": {},
   "source": [
    "<a id=\"bookmark-3-pipeline\"></a>\n",
    "## 3) Pipeline"
   ]
  },
  {
   "cell_type": "code",
   "execution_count": null,
   "id": "74d1585d",
   "metadata": {},
   "outputs": [],
   "source": [
    "numeric = Pipeline([(\"scaler\", StandardScaler(with_mean=False))])\n",
    "categorical = Pipeline([(\"onehot\", OneHotEncoder(handle_unknown=\"ignore\", sparse_output=True))])\n",
    "\n",
    "prep = ColumnTransformer([(\"num\", numeric, num_features),\n",
    "                          (\"cat\", categorical, cat_features)],\n",
    "                         remainder=\"drop\")\n",
    "\n",
    "clf = RandomForestClassifier(\n",
    "    n_estimators=300,\n",
    "    random_state=42,\n",
    "    class_weight=\"balanced_subsample\",\n",
    "    n_jobs=-1\n",
    ")\n",
    "\n",
    "pipe = Pipeline([(\"prep\", prep), (\"clf\", clf)])\n",
    "pipe"
   ]
  },
  {
   "cell_type": "markdown",
   "id": "5ab33eca",
   "metadata": {},
   "source": [
    "<a id=\"bookmark-4-train\"></a>\n",
    "## 4) Entrenamiento"
   ]
  },
  {
   "cell_type": "code",
   "execution_count": null,
   "id": "9292bb65",
   "metadata": {},
   "outputs": [],
   "source": [
    "pipe.fit(X_train, y_train)\n",
    "print(\"Entrenado.\")"
   ]
  },
  {
   "cell_type": "markdown",
   "id": "f20be150",
   "metadata": {},
   "source": [
    "<a id=\"bookmark-5-eval\"></a>\n",
    "## 5) Evaluación"
   ]
  },
  {
   "cell_type": "code",
   "execution_count": null,
   "id": "415b85f5",
   "metadata": {},
   "outputs": [],
   "source": [
    "y_pred = pipe.predict(X_test)\n",
    "y_proba = pipe.predict_proba(X_test)[:,1]\n",
    "\n",
    "print(classification_report(y_test, y_pred, digits=4))\n",
    "auc = roc_auc_score(y_test, y_proba)\n",
    "print(f\"AUC: {auc:.4f}\")\n",
    "confusion_matrix(y_test, y_pred)"
   ]
  },
  {
   "cell_type": "code",
   "execution_count": null,
   "id": "8974620a",
   "metadata": {},
   "outputs": [],
   "source": [
    "RocCurveDisplay.from_predictions(y_test, y_proba)\n",
    "plt.title(\"ROC — Orden rentable\")\n",
    "plt.tight_layout()\n",
    "plt.show()"
   ]
  }
 ],
 "metadata": {},
 "nbformat": 4,
 "nbformat_minor": 5
}
